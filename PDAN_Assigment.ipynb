{
  "nbformat": 4,
  "nbformat_minor": 0,
  "metadata": {
    "colab": {
      "provenance": [],
      "authorship_tag": "ABX9TyORKrQzl3hdIFSB/6Z4SP3a",
      "include_colab_link": true
    },
    "kernelspec": {
      "name": "python3",
      "display_name": "Python 3"
    },
    "language_info": {
      "name": "python"
    }
  },
  "cells": [
    {
      "cell_type": "markdown",
      "metadata": {
        "id": "view-in-github",
        "colab_type": "text"
      },
      "source": [
        "<a href=\"https://colab.research.google.com/github/uwaisjadwat/Inventory-System/blob/main/PDAN_Assigment.ipynb\" target=\"_parent\"><img src=\"https://colab.research.google.com/assets/colab-badge.svg\" alt=\"Open In Colab\"/></a>"
      ]
    },
    {
      "cell_type": "markdown",
      "source": [
        "# **Task 1 - Natural Language Processing using a Recurrent Neural Network**\n",
        "\n",
        "The dataset that we are going to be using to complete this task is called \"Amazon Prime Movies and TV Shows\" and it can be obtained from Kaggle using the following API command:"
      ],
      "metadata": {
        "id": "M8xfu_5Of2ZC"
      }
    },
    {
      "cell_type": "code",
      "source": [
        "!kaggle datasets download -d shivamb/amazon-prime-movies-and-tv-shows"
      ],
      "metadata": {
        "colab": {
          "base_uri": "https://localhost:8080/"
        },
        "id": "-s4yBxl5hyvz",
        "outputId": "2479be49-e970-42a5-e5af-b1413b5eaf97"
      },
      "execution_count": 3,
      "outputs": [
        {
          "output_type": "stream",
          "name": "stdout",
          "text": [
            "Dataset URL: https://www.kaggle.com/datasets/shivamb/amazon-prime-movies-and-tv-shows\n",
            "License(s): CC0-1.0\n",
            "Downloading amazon-prime-movies-and-tv-shows.zip to /content\n",
            "  0% 0.00/1.61M [00:00<?, ?B/s]\n",
            "100% 1.61M/1.61M [00:00<00:00, 105MB/s]\n"
          ]
        }
      ]
    },
    {
      "cell_type": "markdown",
      "source": [
        "Why is this dataset that I picked appropriate for a Recurrent Neural Network (RNN)?\n",
        "\n",
        "According to Amazon(2024), recurrent neural network (RNN) can be defined as a deep learning model that is trained to process as well as convert a sequential data input into a specific sequential data output, which makes it very effective for tasks where the order of the input data is important. An they can be applied in Natural Language Processing (NLP) and therefore with our dataset that we have picked it would be appropriate for RNN. But furthermore, the reason why the dataset I have picked is appropriate is that it contains text data such as the movie titles, genres, and descriptions. Text data is often sequential, and therefore making it appropriate for analysis using RNNs. What we would be doing in this analysis is predicting the genre of a movie/show based on the title and description using RNN with Long Short-term Memory (LSTM).   "
      ],
      "metadata": {
        "id": "A2BUewS1iAdZ"
      }
    },
    {
      "cell_type": "code",
      "execution_count": 1,
      "metadata": {
        "id": "qjTYOFo5ehLu"
      },
      "outputs": [],
      "source": [
        "import pandas as pd"
      ]
    },
    {
      "cell_type": "code",
      "source": [],
      "metadata": {
        "id": "EsA0ZZbsez4a"
      },
      "execution_count": null,
      "outputs": []
    }
  ]
}